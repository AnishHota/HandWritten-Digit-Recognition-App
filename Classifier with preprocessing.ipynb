{
 "cells": [
  {
   "cell_type": "code",
   "execution_count": 1,
   "metadata": {
    "collapsed": true
   },
   "outputs": [],
   "source": [
    "import pandas as pd\n",
    "import numpy as np\n",
    "import matplotlib.pyplot as plt\n",
    "import imageio\n",
    "from skimage import transform\n",
    "from scipy import misc\n",
    "from PIL import Image\n",
    "from resizeimage import resizeimage\n",
    "import PIL\n",
    "import pickle"
   ]
  },
  {
   "cell_type": "code",
   "execution_count": 2,
   "metadata": {
    "collapsed": true
   },
   "outputs": [],
   "source": [
    "data = pd.read_csv('train.csv')"
   ]
  },
  {
   "cell_type": "code",
   "execution_count": 3,
   "metadata": {
    "collapsed": true
   },
   "outputs": [],
   "source": [
    "features = data.iloc[:3000,1:]\n",
    "labels = data.iloc[:3000,0]"
   ]
  },
  {
   "cell_type": "code",
   "execution_count": null,
   "metadata": {
    "collapsed": true
   },
   "outputs": [],
   "source": [
    "import seaborn as sn\n",
    "array = confusion_matrix(predicted, labels_test)\n",
    "df_cm = pd.DataFrame(array, index = [i for i in \"0123456789\"],\n",
    "                  columns = [i for i in \"0123456789\"])\n",
    "plt.figure(figsize = (10,7))\n",
    "sn.heatmap(df_cm, annot=True)"
   ]
  },
  {
   "cell_type": "code",
   "execution_count": null,
   "metadata": {},
   "outputs": [],
   "source": [
    "type(features.dtypes)"
   ]
  },
  {
   "cell_type": "markdown",
   "metadata": {},
   "source": [
    "## Preprocessing the dataset"
   ]
  },
  {
   "cell_type": "code",
   "execution_count": 4,
   "metadata": {},
   "outputs": [
    {
     "name": "stderr",
     "output_type": "stream",
     "text": [
      "/home/dante/.local/lib/python3.5/site-packages/ipykernel_launcher.py:7: FutureWarning: reshape is deprecated and will raise in a subsequent release. Please use .values.reshape(...) instead\n",
      "  import sys\n",
      "/home/dante/.local/lib/python3.5/site-packages/ipykernel_launcher.py:21: DeprecationWarning: `imsave` is deprecated!\n",
      "`imsave` is deprecated in SciPy 1.0.0, and will be removed in 1.2.0.\n",
      "Use ``imageio.imwrite`` instead.\n"
     ]
    }
   ],
   "source": [
    "for i in range(len(features)):\n",
    "    digit = features.iloc[i]\n",
    "    digit[digit<np.mean(digit)]=0\n",
    "    digit[digit>=np.mean(digit)]=255\n",
    "for i in range(len(features)):\n",
    "    digit = features.iloc[i]\n",
    "    digit = digit.reshape((28,28))\n",
    "    del_arr = []\n",
    "    for j in range(28):\n",
    "        if 255 not in digit[j]:\n",
    "            del_arr.append(j)\n",
    "    digit = np.delete(digit,del_arr,0)\n",
    "    #removing columns\n",
    "    del_arr = []\n",
    "    digit = digit.T\n",
    "    for k in range(28):\n",
    "        if 255 not in digit[k]:\n",
    "            del_arr.append(k)\n",
    "    digit = np.delete(digit,del_arr,0)\n",
    "    digit = digit.T\n",
    "    misc.imsave('modified/'+str(i)+'.jpg',digit)\n",
    "for i in range(len(features)):\n",
    "    img2 = Image.open('modified/'+str(i)+'.jpg')\n",
    "    wpercent = (28/float(img2.size[0]))\n",
    "    hsize = int((float(img2.size[1])*float(wpercent)))\n",
    "    img3 = img2.resize((28,28),PIL.Image.ANTIALIAS)\n",
    "    img3.save('modified/'+str(i)+'.jpg',img2.format)"
   ]
  },
  {
   "cell_type": "code",
   "execution_count": null,
   "metadata": {
    "collapsed": true
   },
   "outputs": [],
   "source": [
    "dataset_modified = pd.DataFrame(index=None,columns=None)"
   ]
  },
  {
   "cell_type": "code",
   "execution_count": null,
   "metadata": {},
   "outputs": [],
   "source": [
    "for i in range(len(features)):\n",
    "    img = imageio.imread('modified/'+str(i)+'.jpg')\n",
    "    img = transform.resize(img,(28,28))\n",
    "    img = img.astype(features.dtypes)\n",
    "    img = misc.bytescale(img)\n",
    "    img_test = []\n",
    "    for eachRow in img:\n",
    "        for eachPixel in eachRow:\n",
    "            img_test.append(eachPixel)\n",
    "    dataset_modified = dataset_modified.append(pd.Series(img_test),ignore_index=True)"
   ]
  },
  {
   "cell_type": "code",
   "execution_count": null,
   "metadata": {
    "collapsed": true
   },
   "outputs": [],
   "source": [
    "dataset_modified.shape"
   ]
  },
  {
   "cell_type": "code",
   "execution_count": null,
   "metadata": {
    "collapsed": true
   },
   "outputs": [],
   "source": [
    "dataset_modified.insert(0,column='labels',value=labels)"
   ]
  },
  {
   "cell_type": "code",
   "execution_count": null,
   "metadata": {
    "collapsed": true
   },
   "outputs": [],
   "source": [
    "new_features = dataset_modified.iloc[:2000,1:]\n",
    "new_labels = dataset_modified.iloc[:2000,0]"
   ]
  },
  {
   "cell_type": "markdown",
   "metadata": {},
   "source": [
    "## Binarization of the features of modified dataset"
   ]
  },
  {
   "cell_type": "code",
   "execution_count": null,
   "metadata": {
    "collapsed": true
   },
   "outputs": [],
   "source": [
    "for i in range(len(new_features)):\n",
    "    digit = new_features.iloc[i]\n",
    "    digit[digit<np.mean(digit)]=0\n",
    "    digit[digit>=np.mean(digit)]=255"
   ]
  },
  {
   "cell_type": "markdown",
   "metadata": {},
   "source": [
    "## Random digit from the new dataset"
   ]
  },
  {
   "cell_type": "code",
   "execution_count": null,
   "metadata": {
    "collapsed": true
   },
   "outputs": [],
   "source": [
    "new_labels.iloc[54]"
   ]
  },
  {
   "cell_type": "code",
   "execution_count": null,
   "metadata": {
    "collapsed": true
   },
   "outputs": [],
   "source": [
    "one_digit = new_features.iloc[54]"
   ]
  },
  {
   "cell_type": "code",
   "execution_count": null,
   "metadata": {
    "collapsed": true
   },
   "outputs": [],
   "source": [
    "one_digit = one_digit.reshape((28,28))"
   ]
  },
  {
   "cell_type": "code",
   "execution_count": null,
   "metadata": {
    "collapsed": true
   },
   "outputs": [],
   "source": [
    "plt.imshow(one_digit,cmap='gray')\n",
    "plt.show()"
   ]
  },
  {
   "cell_type": "markdown",
   "metadata": {},
   "source": [
    "# Custom image Classification"
   ]
  },
  {
   "cell_type": "code",
   "execution_count": null,
   "metadata": {},
   "outputs": [],
   "source": [
    "features_dtype = pd.Series.from_csv('features_dtypes.csv')\n",
    "classifier_model = pickle.load(open('final_model.sav','rb'))"
   ]
  },
  {
   "cell_type": "code",
   "execution_count": null,
   "metadata": {},
   "outputs": [],
   "source": [
    "img = imageio.imread('GUI/8.jpg')\n",
    "img = transform.resize(img, (28,28))\n",
    "img = img.astype(features.dtypes)\n",
    "img = misc.bytescale(img)\n",
    "x_test = []\n",
    "for eachRow in img:\n",
    "    for eachPixel in eachRow:\n",
    "        x_test.append(sum(eachPixel)/3)\n",
    "x_test = np.array(x_test)\n",
    "#Binarization\n",
    "x_test[x_test<225]=0\n",
    "x_test[x_test>=225]=255\n",
    "#Removing rows\n",
    "x_test = x_test.reshape((28,28))\n",
    "array = []\n",
    "del_arr=[]\n",
    "for i in range(len(x_test)):\n",
    "    if 255 not in x_test[i]:\n",
    "        del_arr.append(i)\n",
    "x_test = np.delete(x_test,del_arr,0)\n",
    "\n",
    "#Removing Columns\n",
    "x_test=x_test.T\n",
    "del_arr=[]\n",
    "for i in range(len(x_test)):\n",
    "    if 255 not in x_test[i]:\n",
    "        del_arr.append(i)\n",
    "x_test = np.delete(x_test,del_arr,0)\n",
    "x_test = x_test.T\n",
    "misc.imsave('error.jpg',x_test)\n",
    "img2 = Image.open('modified1.jpg')\n",
    "wpercent = (28/float(img2.size[0]))\n",
    "hsize = int((float(img2.size[1])*float(wpercent)))\n",
    "img3 = img2.resize((28,28),PIL.Image.ANTIALIAS)\n",
    "img3.save('modified2.jpg',img2.format)"
   ]
  },
  {
   "cell_type": "code",
   "execution_count": null,
   "metadata": {
    "collapsed": true
   },
   "outputs": [],
   "source": [
    "plt.imshow(x_test,cmap='gray')\n",
    "plt.show()"
   ]
  },
  {
   "cell_type": "code",
   "execution_count": null,
   "metadata": {},
   "outputs": [],
   "source": [
    "img = imageio.imread('error3.jpg')\n",
    "img = transform.resize(img,(28,28))\n",
    "img = img.astype(features.dtypes)\n",
    "img = misc.bytescale(img)\n",
    "img_test = []\n",
    "for eachRow in img:\n",
    "    for eachPixel in eachRow:\n",
    "        img_test.append(eachPixel)\n",
    "img_test = np.array(img_test)\n",
    "img_test = img_test.reshape([1,784])\n",
    "img_test[img_test<np.mean(img_test)]=0\n",
    "img_test[img_test>=np.mean(img_test)]=255"
   ]
  },
  {
   "cell_type": "markdown",
   "metadata": {
    "collapsed": true
   },
   "source": [
    "# CLASSIFIER"
   ]
  },
  {
   "cell_type": "code",
   "execution_count": null,
   "metadata": {
    "collapsed": true
   },
   "outputs": [],
   "source": [
    "prediction = classifier_model.predict(features_test)"
   ]
  },
  {
   "cell_type": "code",
   "execution_count": null,
   "metadata": {},
   "outputs": [],
   "source": [
    "print(prediction)"
   ]
  },
  {
   "cell_type": "code",
   "execution_count": null,
   "metadata": {
    "collapsed": true
   },
   "outputs": [],
   "source": [
    "from sklearn.metrics import confusion_matrix"
   ]
  },
  {
   "cell_type": "code",
   "execution_count": null,
   "metadata": {},
   "outputs": [],
   "source": [
    "results = confusion_matrix(prediction,labels_test)"
   ]
  },
  {
   "cell_type": "code",
   "execution_count": null,
   "metadata": {},
   "outputs": [],
   "source": [
    "print(results)"
   ]
  },
  {
   "cell_type": "code",
   "execution_count": null,
   "metadata": {
    "collapsed": true
   },
   "outputs": [],
   "source": [
    "from sklearn.svm import SVC"
   ]
  },
  {
   "cell_type": "code",
   "execution_count": null,
   "metadata": {
    "collapsed": true
   },
   "outputs": [],
   "source": [
    "svm_clf1 = SVC(kernel='poly',degree=5,random_state=0)"
   ]
  },
  {
   "cell_type": "code",
   "execution_count": null,
   "metadata": {},
   "outputs": [],
   "source": [
    "svm_clf1.fit(new_features,new_labels)"
   ]
  },
  {
   "cell_type": "code",
   "execution_count": null,
   "metadata": {},
   "outputs": [],
   "source": [
    "svm_clf1.predict(img_test)"
   ]
  }
 ],
 "metadata": {
  "kernelspec": {
   "display_name": "Python 3",
   "language": "python",
   "name": "python3"
  },
  "language_info": {
   "codemirror_mode": {
    "name": "ipython",
    "version": 3
   },
   "file_extension": ".py",
   "mimetype": "text/x-python",
   "name": "python",
   "nbconvert_exporter": "python",
   "pygments_lexer": "ipython3",
   "version": "3.5.2"
  }
 },
 "nbformat": 4,
 "nbformat_minor": 2
}
