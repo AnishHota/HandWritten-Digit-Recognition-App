{
 "cells": [
  {
   "cell_type": "code",
   "execution_count": 1,
   "metadata": {
    "collapsed": true
   },
   "outputs": [],
   "source": [
    "import pickle\n",
    "import imageio\n",
    "from skimage import transform\n",
    "from scipy import misc\n",
    "from PIL import Image\n",
    "import numpy as np\n",
    "import PIL\n",
    "import pandas as pd\n",
    "from tkinter import Tk, Text, BOTH, W, N, E, S\n",
    "from tkinter.ttk import Frame, Button, Label, Style\n",
    "from random import randint\n",
    "from PIL import Image, ImageTk\n",
    "import pyscreenshot as ImageGrab\n",
    "try:\n",
    "    import tkinter as tk\n",
    "except ImportError:\n",
    "    import Tkinter as tk\n",
    "from PIL import Image, ImageTk\n",
    "import pyscreenshot as ImageGrab\n",
    "from subprocess import call"
   ]
  },
  {
   "cell_type": "code",
   "execution_count": null,
   "metadata": {
    "collapsed": true
   },
   "outputs": [],
   "source": []
  }
 ],
 "metadata": {
  "kernelspec": {
   "display_name": "Python 3",
   "language": "python",
   "name": "python3"
  },
  "language_info": {
   "codemirror_mode": {
    "name": "ipython",
    "version": 3
   },
   "file_extension": ".py",
   "mimetype": "text/x-python",
   "name": "python",
   "nbconvert_exporter": "python",
   "pygments_lexer": "ipython3",
   "version": "3.5.2"
  }
 },
 "nbformat": 4,
 "nbformat_minor": 2
}
